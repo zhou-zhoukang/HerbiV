{
 "cells": [
  {
   "cell_type": "code",
   "execution_count": 18,
   "id": "initial_id",
   "metadata": {
    "collapsed": true,
    "ExecuteTime": {
     "end_time": "2024-04-30T08:36:06.197158100Z",
     "start_time": "2024-04-30T08:36:06.181154800Z"
    }
   },
   "source": [
    "import pandas as pd\n",
    "from herbiv import get, analysis"
   ],
   "outputs": []
  },
  {
   "cell_type": "code",
   "execution_count": 16,
   "source": [
    "formula_all = pd.read_csv(r\"N:\\Code\\WebApplication\\HerbiV-Web\\HerbiV\\herbiv\\data\\HerbiV_formula.csv\")\n",
    "chem_all = pd.read_csv(r'N:\\Code\\WebApplication\\HerbiV-Web\\HerbiV\\herbiv\\data\\HerbiV_chemicals.csv')"
   ],
   "metadata": {
    "collapsed": false,
    "ExecuteTime": {
     "end_time": "2024-04-30T08:34:27.799301800Z",
     "start_time": "2024-04-30T08:34:27.719302600Z"
    }
   },
   "id": "5ae32dc46a85fb05",
   "outputs": []
  },
  {
   "cell_type": "code",
   "execution_count": 10,
   "source": [
    "formula = formula_all.loc[formula_all[\"HVPID\"].isin(['HVP1625'])]"
   ],
   "metadata": {
    "collapsed": false,
    "ExecuteTime": {
     "end_time": "2024-04-30T08:31:12.465456700Z",
     "start_time": "2024-04-30T08:31:12.452462100Z"
    }
   },
   "id": "d70fefe61568932e",
   "outputs": []
  },
  {
   "cell_type": "code",
   "execution_count": 13,
   "source": [
    "formula.index = range(formula.shape[0])"
   ],
   "metadata": {
    "collapsed": false,
    "ExecuteTime": {
     "end_time": "2024-04-30T08:31:41.486790800Z",
     "start_time": "2024-04-30T08:31:41.477767700Z"
    }
   },
   "id": "a0ef501438f6b300",
   "outputs": []
  },
  {
   "cell_type": "code",
   "execution_count": 14,
   "source": [
    "formula.index"
   ],
   "metadata": {
    "collapsed": false
   },
   "id": "d202413ba51da061",
   "outputs": []
  },
  {
   "cell_type": "code",
   "execution_count": 19,
   "source": [
    "chai_hu = get.get_tcm_chem_links('HVMID', ['HVM0367'])"
   ],
   "metadata": {
    "collapsed": false,
    "ExecuteTime": {
     "end_time": "2024-04-30T08:36:09.288053300Z",
     "start_time": "2024-04-30T08:36:09.245054100Z"
    }
   },
   "id": "3c140e4f9972443b",
   "outputs": []
  },
  {
   "cell_type": "code",
   "execution_count": 24,
   "source": [
    "chai_hu.shape"
   ],
   "metadata": {
    "collapsed": false,
    "ExecuteTime": {
     "end_time": "2024-04-30T08:39:49.764322100Z",
     "start_time": "2024-04-30T08:39:49.750322800Z"
    }
   },
   "id": "71a39b3c74b9c7b",
   "outputs": []
  },
  {
   "cell_type": "code",
   "execution_count": 25,
   "source": [
    "chem_all.loc[chem_all[\"HVCID\"].isin(chai_hu['HVCID'])].drop_duplicates(subset=['HVCID'])"
   ],
   "metadata": {
    "collapsed": false,
    "ExecuteTime": {
     "end_time": "2024-04-30T08:40:18.306551600Z",
     "start_time": "2024-04-30T08:40:18.276552500Z"
    }
   },
   "id": "a697858327dd26ed",
   "outputs": []
  },
  {
   "cell_type": "code",
   "execution_count": null,
   "source": [
    "analysis.from_tcm_or_formula(['HVP1625'])\n"
   ],
   "metadata": {
    "collapsed": false
   },
   "id": "a7931c74ae5191b5",
   "outputs": []
  }
 ],
 "metadata": {
  "kernelspec": {
   "display_name": "Python 3",
   "language": "python",
   "name": "python3"
  },
  "language_info": {
   "codemirror_mode": {
    "name": "ipython",
    "version": 2
   },
   "file_extension": ".py",
   "mimetype": "text/x-python",
   "name": "python",
   "nbconvert_exporter": "python",
   "pygments_lexer": "ipython2",
   "version": "2.7.6"
  }
 },
 "nbformat": 4,
 "nbformat_minor": 5
}
