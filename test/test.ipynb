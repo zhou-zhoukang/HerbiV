{
 "cells": [
  {
   "cell_type": "code",
   "execution_count": 18,
   "id": "initial_id",
   "metadata": {
    "collapsed": true,
    "ExecuteTime": {
     "end_time": "2024-04-30T08:36:06.197158100Z",
     "start_time": "2024-04-30T08:36:06.181154800Z"
    }
   },
   "outputs": [],
   "source": [
    "import pandas as pd\n",
    "from herbiv import get, analysis"
   ]
  },
  {
   "cell_type": "code",
   "execution_count": 16,
   "outputs": [],
   "source": [
    "formula_all = pd.read_csv(r\"N:\\Code\\WebApplication\\HerbiV-Web\\HerbiV\\herbiv\\data\\HerbiV_formula.csv\")\n",
    "chem_all = pd.read_csv(r'N:\\Code\\WebApplication\\HerbiV-Web\\HerbiV\\herbiv\\data\\HerbiV_chemicals.csv')"
   ],
   "metadata": {
    "collapsed": false,
    "ExecuteTime": {
     "end_time": "2024-04-30T08:34:27.799301800Z",
     "start_time": "2024-04-30T08:34:27.719302600Z"
    }
   },
   "id": "5ae32dc46a85fb05"
  },
  {
   "cell_type": "code",
   "execution_count": 10,
   "outputs": [],
   "source": [
    "formula = formula_all.loc[formula_all[\"HVPID\"].isin(['HVP1625'])]"
   ],
   "metadata": {
    "collapsed": false,
    "ExecuteTime": {
     "end_time": "2024-04-30T08:31:12.465456700Z",
     "start_time": "2024-04-30T08:31:12.452462100Z"
    }
   },
   "id": "d70fefe61568932e"
  },
  {
   "cell_type": "code",
   "execution_count": 13,
   "outputs": [],
   "source": [
    "formula.index = range(formula.shape[0])"
   ],
   "metadata": {
    "collapsed": false,
    "ExecuteTime": {
     "end_time": "2024-04-30T08:31:41.486790800Z",
     "start_time": "2024-04-30T08:31:41.477767700Z"
    }
   },
   "id": "a0ef501438f6b300"
  },
  {
   "cell_type": "code",
   "execution_count": 14,
   "outputs": [
    {
     "data": {
      "text/plain": "RangeIndex(start=0, stop=1, step=1)"
     },
     "execution_count": 14,
     "metadata": {},
     "output_type": "execute_result"
    }
   ],
   "source": [
    "formula.index"
   ],
   "metadata": {
    "collapsed": false
   },
   "id": "d202413ba51da061"
  },
  {
   "cell_type": "code",
   "execution_count": 19,
   "outputs": [],
   "source": [
    "chai_hu = get.get_tcm_chem_links('HVMID', ['HVM0367'])"
   ],
   "metadata": {
    "collapsed": false,
    "ExecuteTime": {
     "end_time": "2024-04-30T08:36:09.288053300Z",
     "start_time": "2024-04-30T08:36:09.245054100Z"
    }
   },
   "id": "3c140e4f9972443b"
  },
  {
   "cell_type": "code",
   "execution_count": 24,
   "outputs": [
    {
     "data": {
      "text/plain": "(316, 2)"
     },
     "execution_count": 24,
     "metadata": {},
     "output_type": "execute_result"
    }
   ],
   "source": [
    "chai_hu.shape"
   ],
   "metadata": {
    "collapsed": false,
    "ExecuteTime": {
     "end_time": "2024-04-30T08:39:49.764322100Z",
     "start_time": "2024-04-30T08:39:49.750322800Z"
    }
   },
   "id": "71a39b3c74b9c7b"
  },
  {
   "cell_type": "code",
   "execution_count": 25,
   "outputs": [
    {
     "data": {
      "text/plain": "         HVCID                                     Name  \\\n66     HVC0034                                allantoin   \n71     HVC0036                                  glucose   \n119    HVC0046                             benzaldehyde   \n214    HVC0071                                 coumarin   \n221    HVC0073                            cuminaldehyde   \n...        ...                                      ...   \n11990  HVC6045                        8-hydroxydaidzein   \n12001  HVC6054                                narcissin   \n12186  HVC6156  stigmasterol-3-O-beta-D-glucopyranoside   \n12247  HVC6183                           beta-gurjunene   \n12277  HVC6204                         geraniol acetate   \n\n                                                  SMILES      CAS_id  \\\n66                              C1(C(=O)NC(=O)N1)NC(=O)N     97-59-6   \n71                              C(C1C(C(C(C(O1)O)O)O)O)O         NaN   \n119                                     C1=CC=C(C=C1)C=O    100-52-7   \n214                             C1=CC=C2C(=C1)C=CC(=O)O2         NaN   \n221                                CC(C)C1=CC=C(C=C1)C=O         NaN   \n...                                                  ...         ...   \n11990           C1=CC(=CC=C1C2=COC3=C(C2=O)C=CC(=C3O)O)O  75187-63-2   \n12001  CC1C(C(C(C(O1)OCC2C(C(C(C(O2)OC3=C(OC4=CC(=CC(...         NaN   \n12186  CCC(C=CC(C)C1CCC2C1(CCC3C2CC=C4C3(CCC(C4)OC5C(...         NaN   \n12247                         CC1CCC2C(C2(C)C)C3C1CCC3=C  73464-47-8   \n12277                             CC(=CCCC(=COC(=O)C)C)C         NaN   \n\n       PubChem_id DrugBank_id     STITCH_id     HERB_id  \n66          204.0         NaN  CIDm00000204  HBIN015193  \n71            NaN         NaN  CIDm00000206  HBIN001003  \n119         240.0         NaN  CIDm00000240  HBIN017734  \n214           NaN         NaN  CIDm00000323  HBIN021605  \n221         326.0         NaN  CIDm00000326  HBIN010591  \n...           ...         ...           ...         ...  \n11990   5466139.0         NaN  CIDm05466139  HBIN012955  \n12001   5491808.0         NaN  CIDm05481663  HBIN031161  \n12186         NaN         NaN  CIDm06440962  HBIN015690  \n12247   6450812.0         NaN  CIDm06450812  HBIN018138  \n12277  24832062.0         NaN  CIDm06850714  HBIN027529  \n\n[258 rows x 8 columns]",
      "text/html": "<div>\n<style scoped>\n    .dataframe tbody tr th:only-of-type {\n        vertical-align: middle;\n    }\n\n    .dataframe tbody tr th {\n        vertical-align: top;\n    }\n\n    .dataframe thead th {\n        text-align: right;\n    }\n</style>\n<table border=\"1\" class=\"dataframe\">\n  <thead>\n    <tr style=\"text-align: right;\">\n      <th></th>\n      <th>HVCID</th>\n      <th>Name</th>\n      <th>SMILES</th>\n      <th>CAS_id</th>\n      <th>PubChem_id</th>\n      <th>DrugBank_id</th>\n      <th>STITCH_id</th>\n      <th>HERB_id</th>\n    </tr>\n  </thead>\n  <tbody>\n    <tr>\n      <th>66</th>\n      <td>HVC0034</td>\n      <td>allantoin</td>\n      <td>C1(C(=O)NC(=O)N1)NC(=O)N</td>\n      <td>97-59-6</td>\n      <td>204.0</td>\n      <td>NaN</td>\n      <td>CIDm00000204</td>\n      <td>HBIN015193</td>\n    </tr>\n    <tr>\n      <th>71</th>\n      <td>HVC0036</td>\n      <td>glucose</td>\n      <td>C(C1C(C(C(C(O1)O)O)O)O)O</td>\n      <td>NaN</td>\n      <td>NaN</td>\n      <td>NaN</td>\n      <td>CIDm00000206</td>\n      <td>HBIN001003</td>\n    </tr>\n    <tr>\n      <th>119</th>\n      <td>HVC0046</td>\n      <td>benzaldehyde</td>\n      <td>C1=CC=C(C=C1)C=O</td>\n      <td>100-52-7</td>\n      <td>240.0</td>\n      <td>NaN</td>\n      <td>CIDm00000240</td>\n      <td>HBIN017734</td>\n    </tr>\n    <tr>\n      <th>214</th>\n      <td>HVC0071</td>\n      <td>coumarin</td>\n      <td>C1=CC=C2C(=C1)C=CC(=O)O2</td>\n      <td>NaN</td>\n      <td>NaN</td>\n      <td>NaN</td>\n      <td>CIDm00000323</td>\n      <td>HBIN021605</td>\n    </tr>\n    <tr>\n      <th>221</th>\n      <td>HVC0073</td>\n      <td>cuminaldehyde</td>\n      <td>CC(C)C1=CC=C(C=C1)C=O</td>\n      <td>NaN</td>\n      <td>326.0</td>\n      <td>NaN</td>\n      <td>CIDm00000326</td>\n      <td>HBIN010591</td>\n    </tr>\n    <tr>\n      <th>...</th>\n      <td>...</td>\n      <td>...</td>\n      <td>...</td>\n      <td>...</td>\n      <td>...</td>\n      <td>...</td>\n      <td>...</td>\n      <td>...</td>\n    </tr>\n    <tr>\n      <th>11990</th>\n      <td>HVC6045</td>\n      <td>8-hydroxydaidzein</td>\n      <td>C1=CC(=CC=C1C2=COC3=C(C2=O)C=CC(=C3O)O)O</td>\n      <td>75187-63-2</td>\n      <td>5466139.0</td>\n      <td>NaN</td>\n      <td>CIDm05466139</td>\n      <td>HBIN012955</td>\n    </tr>\n    <tr>\n      <th>12001</th>\n      <td>HVC6054</td>\n      <td>narcissin</td>\n      <td>CC1C(C(C(C(O1)OCC2C(C(C(C(O2)OC3=C(OC4=CC(=CC(...</td>\n      <td>NaN</td>\n      <td>5491808.0</td>\n      <td>NaN</td>\n      <td>CIDm05481663</td>\n      <td>HBIN031161</td>\n    </tr>\n    <tr>\n      <th>12186</th>\n      <td>HVC6156</td>\n      <td>stigmasterol-3-O-beta-D-glucopyranoside</td>\n      <td>CCC(C=CC(C)C1CCC2C1(CCC3C2CC=C4C3(CCC(C4)OC5C(...</td>\n      <td>NaN</td>\n      <td>NaN</td>\n      <td>NaN</td>\n      <td>CIDm06440962</td>\n      <td>HBIN015690</td>\n    </tr>\n    <tr>\n      <th>12247</th>\n      <td>HVC6183</td>\n      <td>beta-gurjunene</td>\n      <td>CC1CCC2C(C2(C)C)C3C1CCC3=C</td>\n      <td>73464-47-8</td>\n      <td>6450812.0</td>\n      <td>NaN</td>\n      <td>CIDm06450812</td>\n      <td>HBIN018138</td>\n    </tr>\n    <tr>\n      <th>12277</th>\n      <td>HVC6204</td>\n      <td>geraniol acetate</td>\n      <td>CC(=CCCC(=COC(=O)C)C)C</td>\n      <td>NaN</td>\n      <td>24832062.0</td>\n      <td>NaN</td>\n      <td>CIDm06850714</td>\n      <td>HBIN027529</td>\n    </tr>\n  </tbody>\n</table>\n<p>258 rows × 8 columns</p>\n</div>"
     },
     "execution_count": 25,
     "metadata": {},
     "output_type": "execute_result"
    }
   ],
   "source": [
    "chem_all.loc[chem_all[\"HVCID\"].isin(chai_hu['HVCID'])].drop_duplicates(subset=['HVCID'])"
   ],
   "metadata": {
    "collapsed": false,
    "ExecuteTime": {
     "end_time": "2024-04-30T08:40:18.306551600Z",
     "start_time": "2024-04-30T08:40:18.276552500Z"
    }
   },
   "id": "a697858327dd26ed"
  },
  {
   "cell_type": "code",
   "execution_count": null,
   "outputs": [],
   "source": [
    "analysis.from_tcm_or_formula(['HVP1625'])\n"
   ],
   "metadata": {
    "collapsed": false
   },
   "id": "a7931c74ae5191b5"
  }
 ],
 "metadata": {
  "kernelspec": {
   "display_name": "Python 3",
   "language": "python",
   "name": "python3"
  },
  "language_info": {
   "codemirror_mode": {
    "name": "ipython",
    "version": 2
   },
   "file_extension": ".py",
   "mimetype": "text/x-python",
   "name": "python",
   "nbconvert_exporter": "python",
   "pygments_lexer": "ipython2",
   "version": "2.7.6"
  }
 },
 "nbformat": 4,
 "nbformat_minor": 5
}
